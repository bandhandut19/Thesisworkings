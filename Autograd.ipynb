{
  "nbformat": 4,
  "nbformat_minor": 0,
  "metadata": {
    "colab": {
      "name": "Autograd.ipynb",
      "provenance": [],
      "authorship_tag": "ABX9TyPL/zMen9b0bWO9nITDoM9F",
      "include_colab_link": true
    },
    "kernelspec": {
      "name": "python3",
      "display_name": "Python 3"
    },
    "language_info": {
      "name": "python"
    }
  },
  "cells": [
    {
      "cell_type": "markdown",
      "metadata": {
        "id": "view-in-github",
        "colab_type": "text"
      },
      "source": [
        "<a href=\"https://colab.research.google.com/github/bandhandut19/Thesisworkings/blob/main/Autograd.ipynb\" target=\"_parent\"><img src=\"https://colab.research.google.com/assets/colab-badge.svg\" alt=\"Open In Colab\"/></a>"
      ]
    },
    {
      "cell_type": "code",
      "execution_count": 1,
      "metadata": {
        "id": "Blb9N0ioDgKk"
      },
      "outputs": [],
      "source": [
        "# %matplotlib inline\n",
        "\n",
        "import torch\n",
        "\n",
        "import matplotlib.pyplot as plt\n",
        "import matplotlib.ticker as ticker\n",
        "import math"
      ]
    },
    {
      "cell_type": "code",
      "source": [
        "a = torch.linspace(0., 3. * math.pi, steps=25, requires_grad=True)\n",
        "print(a)"
      ],
      "metadata": {
        "colab": {
          "base_uri": "https://localhost:8080/"
        },
        "id": "G2QWg_0GDwa-",
        "outputId": "4f5cab9f-5098-43e1-864b-bcb324a769bd"
      },
      "execution_count": 5,
      "outputs": [
        {
          "output_type": "stream",
          "name": "stdout",
          "text": [
            "tensor([0.0000, 0.3927, 0.7854, 1.1781, 1.5708, 1.9635, 2.3562, 2.7489, 3.1416,\n",
            "        3.5343, 3.9270, 4.3197, 4.7124, 5.1051, 5.4978, 5.8905, 6.2832, 6.6759,\n",
            "        7.0686, 7.4613, 7.8540, 8.2467, 8.6394, 9.0321, 9.4248],\n",
            "       requires_grad=True)\n"
          ]
        }
      ]
    },
    {
      "cell_type": "code",
      "source": [
        "b = torch.sin(a)\n",
        "plt.plot(a.detach(), b.detach())"
      ],
      "metadata": {
        "colab": {
          "base_uri": "https://localhost:8080/",
          "height": 282
        },
        "id": "euH50ir0EBAH",
        "outputId": "3514c6f9-ecf7-4d8c-d4ca-ad34310a7b8c"
      },
      "execution_count": 6,
      "outputs": [
        {
          "output_type": "execute_result",
          "data": {
            "text/plain": [
              "[<matplotlib.lines.Line2D at 0x7fbb953da110>]"
            ]
          },
          "metadata": {},
          "execution_count": 6
        },
        {
          "output_type": "display_data",
          "data": {
            "text/plain": [
              "<Figure size 432x288 with 1 Axes>"
            ],
            "image/png": "[encoded data removed]"
          },
          "metadata": {
            "needs_background": "light"
          }
        }
      ]
    },
    {
      "cell_type": "code",
      "source": [
        "print(b)"
      ],
      "metadata": {
        "colab": {
          "base_uri": "https://localhost:8080/"
        },
        "id": "pdRMXqC3EHMe",
        "outputId": "7600f393-4ad0-4e2a-aa64-1ad62907df3c"
      },
      "execution_count": 7,
      "outputs": [
        {
          "output_type": "stream",
          "name": "stdout",
          "text": [
            "tensor([ 0.0000e+00,  3.8268e-01,  7.0711e-01,  9.2388e-01,  1.0000e+00,\n",
            "         9.2388e-01,  7.0711e-01,  3.8268e-01, -8.7423e-08, -3.8268e-01,\n",
            "        -7.0711e-01, -9.2388e-01, -1.0000e+00, -9.2388e-01, -7.0711e-01,\n",
            "        -3.8268e-01, -3.0199e-07,  3.8268e-01,  7.0711e-01,  9.2388e-01,\n",
            "         1.0000e+00,  9.2388e-01,  7.0711e-01,  3.8268e-01, -2.3850e-08],\n",
            "       grad_fn=<SinBackward0>)\n"
          ]
        }
      ]
    },
    {
      "cell_type": "code",
      "source": [
        "c = 2 * b\n",
        "print(c)\n",
        "\n",
        "d = c + 1\n",
        "print(d)"
      ],
      "metadata": {
        "colab": {
          "base_uri": "https://localhost:8080/"
        },
        "id": "GVZ854lCEYef",
        "outputId": "690050f9-5679-4f1b-a84a-e674e11b8bc6"
      },
      "execution_count": 8,
      "outputs": [
        {
          "output_type": "stream",
          "name": "stdout",
          "text": [
            "tensor([ 0.0000e+00,  7.6537e-01,  1.4142e+00,  1.8478e+00,  2.0000e+00,\n",
            "         1.8478e+00,  1.4142e+00,  7.6537e-01, -1.7485e-07, -7.6537e-01,\n",
            "        -1.4142e+00, -1.8478e+00, -2.0000e+00, -1.8478e+00, -1.4142e+00,\n",
            "        -7.6537e-01, -6.0398e-07,  7.6537e-01,  1.4142e+00,  1.8478e+00,\n",
            "         2.0000e+00,  1.8478e+00,  1.4142e+00,  7.6537e-01, -4.7700e-08],\n",
            "       grad_fn=<MulBackward0>)\n",
            "tensor([ 1.0000,  1.7654,  2.4142,  2.8478,  3.0000,  2.8478,  2.4142,  1.7654,\n",
            "         1.0000,  0.2346, -0.4142, -0.8478, -1.0000, -0.8478, -0.4142,  0.2346,\n",
            "         1.0000,  1.7654,  2.4142,  2.8478,  3.0000,  2.8478,  2.4142,  1.7654,\n",
            "         1.0000], grad_fn=<AddBackward0>)\n"
          ]
        }
      ]
    },
    {
      "cell_type": "code",
      "source": [
        "out = d.sum()\n",
        "print(out)"
      ],
      "metadata": {
        "colab": {
          "base_uri": "https://localhost:8080/"
        },
        "id": "W2nw-jUPEbaP",
        "outputId": "6bd7f299-41ec-4d67-a4b7-69686656ba76"
      },
      "execution_count": 9,
      "outputs": [
        {
          "output_type": "stream",
          "name": "stdout",
          "text": [
            "tensor(35.0547, grad_fn=<SumBackward0>)\n"
          ]
        }
      ]
    },
    {
      "cell_type": "code",
      "source": [
        "print('d:')\n",
        "print(d.grad_fn)\n",
        "print(d.grad_fn.next_functions)\n",
        "print(d.grad_fn.next_functions[0][0].next_functions)\n",
        "print(d.grad_fn.next_functions[0][0].next_functions[0][0].next_functions)\n",
        "print(d.grad_fn.next_functions[0][0].next_functions[0][0].next_functions[0][0].next_functions)\n",
        "print('\\nc:')\n",
        "print(c.grad_fn)\n",
        "print('\\nb:')\n",
        "print(b.grad_fn)\n",
        "print('\\na:')\n",
        "print(a.grad_fn)"
      ],
      "metadata": {
        "colab": {
          "base_uri": "https://localhost:8080/"
        },
        "id": "TJbz1opsEd83",
        "outputId": "ffc2c225-3b27-4d8b-8c69-65d8e1da3079"
      },
      "execution_count": 10,
      "outputs": [
        {
          "output_type": "stream",
          "name": "stdout",
          "text": [
            "d:\n",
            "<AddBackward0 object at 0x7fbb95355450>\n",
            "((<MulBackward0 object at 0x7fbb95355c10>, 0), (None, 0))\n",
            "((<SinBackward0 object at 0x7fbb95355390>, 0), (None, 0))\n",
            "((<AccumulateGrad object at 0x7fbb95355050>, 0),)\n",
            "()\n",
            "\n",
            "c:\n",
            "<MulBackward0 object at 0x7fbb95355390>\n",
            "\n",
            "b:\n",
            "<SinBackward0 object at 0x7fbb95355390>\n",
            "\n",
            "a:\n",
            "None\n"
          ]
        }
      ]
    },
    {
      "cell_type": "code",
      "source": [
        "out.backward()\n",
        "print(a.grad)\n",
        "plt.plot(a.detach(), a.grad.detach())"
      ],
      "metadata": {
        "colab": {
          "base_uri": "https://localhost:8080/",
          "height": 369
        },
        "id": "CALbaBmiEiUn",
        "outputId": "428328f0-6330-4f32-a637-34d91da3b25e"
      },
      "execution_count": 11,
      "outputs": [
        {
          "output_type": "stream",
          "name": "stdout",
          "text": [
            "tensor([ 2.0000e+00,  1.8478e+00,  1.4142e+00,  7.6537e-01, -8.7423e-08,\n",
            "        -7.6537e-01, -1.4142e+00, -1.8478e+00, -2.0000e+00, -1.8478e+00,\n",
            "        -1.4142e+00, -7.6537e-01,  2.3850e-08,  7.6537e-01,  1.4142e+00,\n",
            "         1.8478e+00,  2.0000e+00,  1.8478e+00,  1.4142e+00,  7.6537e-01,\n",
            "         2.7814e-07, -7.6537e-01, -1.4142e+00, -1.8478e+00, -2.0000e+00])\n"
          ]
        },
        {
          "output_type": "execute_result",
          "data": {
            "text/plain": [
              "[<matplotlib.lines.Line2D at 0x7fbb94ed3790>]"
            ]
          },
          "metadata": {},
          "execution_count": 11
        },
        {
          "output_type": "display_data",
          "data": {
            "text/plain": [
              "<Figure size 432x288 with 1 Axes>"
            ],
            "image/png": "[encoded data removed]"
          },
          "metadata": {
            "needs_background": "light"
          }
        }
      ]
    },
    {
      "cell_type": "code",
      "source": [
        "a = torch.linspace(0., 2. * math.pi, steps=25, requires_grad=True)\n",
        "b = torch.sin(a)\n",
        "c = 2 * b\n",
        "d = c + 1\n",
        "out = d.sum()"
      ],
      "metadata": {
        "id": "l6rw4nm5Eq13"
      },
      "execution_count": 12,
      "outputs": []
    },
    {
      "cell_type": "code",
      "source": [
        "BATCH_SIZE = 16\n",
        "DIM_IN = 1000\n",
        "HIDDEN_SIZE = 100\n",
        "DIM_OUT = 10\n",
        "\n",
        "class TinyModel(torch.nn.Module):\n",
        "\n",
        "    def __init__(self):\n",
        "        super(TinyModel, self).__init__()\n",
        "\n",
        "        self.layer1 = torch.nn.Linear(1000, 100)\n",
        "        self.relu = torch.nn.ReLU()\n",
        "        self.layer2 = torch.nn.Linear(100, 10)\n",
        "\n",
        "    def forward(self, x):\n",
        "        x = self.layer1(x)\n",
        "        x = self.relu(x)\n",
        "        x = self.layer2(x)\n",
        "        return x\n",
        "\n",
        "some_input = torch.randn(BATCH_SIZE, DIM_IN, requires_grad=False)\n",
        "ideal_output = torch.randn(BATCH_SIZE, DIM_OUT, requires_grad=False)\n",
        "\n",
        "model = TinyModel()"
      ],
      "metadata": {
        "id": "2WTVLbktEvKP"
      },
      "execution_count": 13,
      "outputs": []
    },
    {
      "cell_type": "code",
      "source": [
        "print(model.layer2.weight[0][0:10]) # just a small slice\n",
        "print(model.layer2.weight.grad)"
      ],
      "metadata": {
        "colab": {
          "base_uri": "https://localhost:8080/"
        },
        "id": "BXEdXT1lEw53",
        "outputId": "750de542-bb4f-4479-d2a4-687726d1a0c1"
      },
      "execution_count": 14,
      "outputs": [
        {
          "output_type": "stream",
          "name": "stdout",
          "text": [
            "tensor([ 0.0010,  0.0409, -0.0756,  0.0776, -0.0524,  0.0158,  0.0320, -0.0603,\n",
            "         0.0831, -0.0455], grad_fn=<SliceBackward0>)\n",
            "None\n"
          ]
        }
      ]
    },
    {
      "cell_type": "code",
      "source": [
        "optimizer = torch.optim.SGD(model.parameters(), lr=0.001)\n",
        "\n",
        "prediction = model(some_input)\n",
        "\n",
        "loss = (ideal_output - prediction).pow(2).sum()\n",
        "print(loss)"
      ],
      "metadata": {
        "colab": {
          "base_uri": "https://localhost:8080/"
        },
        "id": "ZgO-7PXLE2r3",
        "outputId": "b01c76b4-bfdc-4219-bcc1-0afbd91c81f3"
      },
      "execution_count": 15,
      "outputs": [
        {
          "output_type": "stream",
          "name": "stdout",
          "text": [
            "tensor(161.6317, grad_fn=<SumBackward0>)\n"
          ]
        }
      ]
    },
    {
      "cell_type": "code",
      "source": [
        "loss.backward()\n",
        "print(model.layer2.weight[0][0:10])\n",
        "print(model.layer2.weight.grad[0][0:10])"
      ],
      "metadata": {
        "colab": {
          "base_uri": "https://localhost:8080/"
        },
        "id": "8BXA4OGzE4I_",
        "outputId": "89a9238e-86de-4102-9ef8-9359ab4cb0fe"
      },
      "execution_count": 16,
      "outputs": [
        {
          "output_type": "stream",
          "name": "stdout",
          "text": [
            "tensor([ 0.0010,  0.0409, -0.0756,  0.0776, -0.0524,  0.0158,  0.0320, -0.0603,\n",
            "         0.0831, -0.0455], grad_fn=<SliceBackward0>)\n",
            "tensor([ 1.4055, -5.2874, -0.9948,  5.2881, -4.7525,  0.1730, -0.8240, -8.1716,\n",
            "        -0.6853, -2.1515])\n"
          ]
        }
      ]
    },
    {
      "cell_type": "code",
      "source": [
        "optimizer.step()\n",
        "print(model.layer2.weight[0][0:10])\n",
        "print(model.layer2.weight.grad[0][0:10])"
      ],
      "metadata": {
        "colab": {
          "base_uri": "https://localhost:8080/"
        },
        "id": "PpnupiulE8i_",
        "outputId": "ac060cda-79e5-42bd-8b22-5fbd2f3cf6b4"
      },
      "execution_count": 17,
      "outputs": [
        {
          "output_type": "stream",
          "name": "stdout",
          "text": [
            "tensor([-0.0004,  0.0462, -0.0746,  0.0724, -0.0477,  0.0157,  0.0329, -0.0521,\n",
            "         0.0837, -0.0434], grad_fn=<SliceBackward0>)\n",
            "tensor([ 1.4055, -5.2874, -0.9948,  5.2881, -4.7525,  0.1730, -0.8240, -8.1716,\n",
            "        -0.6853, -2.1515])\n"
          ]
        }
      ]
    },
    {
      "cell_type": "code",
      "source": [
        "print(model.layer2.weight.grad[0][0:10])\n",
        "\n",
        "for i in range(0, 5):\n",
        "    prediction = model(some_input)\n",
        "    loss = (ideal_output - prediction).pow(2).sum()\n",
        "    loss.backward()\n",
        "\n",
        "print(model.layer2.weight.grad[0][0:10])\n",
        "\n",
        "optimizer.zero_grad()\n",
        "\n",
        "print(model.layer2.weight.grad[0][0:10])"
      ],
      "metadata": {
        "colab": {
          "base_uri": "https://localhost:8080/"
        },
        "id": "DNZmjweUE99n",
        "outputId": "f939b006-3f24-418c-ea08-8eb7eb129abd"
      },
      "execution_count": 18,
      "outputs": [
        {
          "output_type": "stream",
          "name": "stdout",
          "text": [
            "tensor([ 1.4055, -5.2874, -0.9948,  5.2881, -4.7525,  0.1730, -0.8240, -8.1716,\n",
            "        -0.6853, -2.1515])\n",
            "tensor([ 11.0560, -25.1254,  -8.7076,  23.2457,  -5.7640,   0.0317,  -3.2761,\n",
            "        -18.6134,  -7.5534, -12.2330])\n",
            "tensor([0., 0., 0., 0., 0., 0., 0., 0., 0., 0.])\n"
          ]
        }
      ]
    }
  ]
}